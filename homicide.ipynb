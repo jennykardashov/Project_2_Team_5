{
 "cells": [
  {
   "cell_type": "code",
   "execution_count": 3,
   "metadata": {},
   "outputs": [],
   "source": [
    "import pandas as pd\n",
    "import numpy as np\n",
    "from sqlalchemy import create_engine"
   ]
  },
  {
   "cell_type": "code",
   "execution_count": 2,
   "metadata": {},
   "outputs": [
    {
     "name": "stdout",
     "output_type": "stream",
     "text": [
      "Collecting sqlalchemy\n",
      "  Downloading SQLAlchemy-1.4.45-cp37-cp37m-macosx_10_15_x86_64.whl (1.6 MB)\n",
      "\u001b[K     |████████████████████████████████| 1.6 MB 2.1 MB/s eta 0:00:01\n",
      "\u001b[?25hCollecting greenlet!=0.4.17; python_version >= \"3\" and (platform_machine == \"aarch64\" or (platform_machine == \"ppc64le\" or (platform_machine == \"x86_64\" or (platform_machine == \"amd64\" or (platform_machine == \"AMD64\" or (platform_machine == \"win32\" or platform_machine == \"WIN32\"))))))\n",
      "  Downloading greenlet-2.0.1-cp37-cp37m-macosx_10_15_x86_64.whl (202 kB)\n",
      "\u001b[K     |████████████████████████████████| 202 kB 13.6 MB/s eta 0:00:01\n",
      "\u001b[?25hRequirement already satisfied: importlib-metadata; python_version < \"3.8\" in /Users/jenny/opt/anaconda3/envs/PythonDataOne/lib/python3.7/site-packages (from sqlalchemy) (4.11.3)\n",
      "Requirement already satisfied: typing-extensions>=3.6.4; python_version < \"3.8\" in /Users/jenny/opt/anaconda3/envs/PythonDataOne/lib/python3.7/site-packages (from importlib-metadata; python_version < \"3.8\"->sqlalchemy) (4.1.1)\n",
      "Requirement already satisfied: zipp>=0.5 in /Users/jenny/opt/anaconda3/envs/PythonDataOne/lib/python3.7/site-packages (from importlib-metadata; python_version < \"3.8\"->sqlalchemy) (3.7.0)\n",
      "Installing collected packages: greenlet, sqlalchemy\n",
      "Successfully installed greenlet-2.0.1 sqlalchemy-1.4.45\n"
     ]
    }
   ],
   "source": [
    "!pip install sqlalchemy"
   ]
  },
  {
   "cell_type": "code",
   "execution_count": 4,
   "metadata": {},
   "outputs": [],
   "source": [
    "# Path to data set in a variable\n",
    "homicide = \"../Project_2_Team_5/Resources/Homicide_data.csv\""
   ]
  },
  {
   "cell_type": "code",
   "execution_count": 5,
   "metadata": {},
   "outputs": [
    {
     "data": {
      "text/html": [
       "<div>\n",
       "<style scoped>\n",
       "    .dataframe tbody tr th:only-of-type {\n",
       "        vertical-align: middle;\n",
       "    }\n",
       "\n",
       "    .dataframe tbody tr th {\n",
       "        vertical-align: top;\n",
       "    }\n",
       "\n",
       "    .dataframe thead th {\n",
       "        text-align: right;\n",
       "    }\n",
       "</style>\n",
       "<table border=\"1\" class=\"dataframe\">\n",
       "  <thead>\n",
       "    <tr style=\"text-align: right;\">\n",
       "      <th></th>\n",
       "      <th>country</th>\n",
       "      <th>2015</th>\n",
       "      <th>2016</th>\n",
       "      <th>2017</th>\n",
       "      <th>2018</th>\n",
       "      <th>2019</th>\n",
       "    </tr>\n",
       "  </thead>\n",
       "  <tbody>\n",
       "    <tr>\n",
       "      <th>1</th>\n",
       "      <td>Albania</td>\n",
       "      <td>64.0</td>\n",
       "      <td>79.0</td>\n",
       "      <td>58.0</td>\n",
       "      <td>66.0</td>\n",
       "      <td>65.0</td>\n",
       "    </tr>\n",
       "    <tr>\n",
       "      <th>8</th>\n",
       "      <td>Argentina</td>\n",
       "      <td>2837.0</td>\n",
       "      <td>2625.0</td>\n",
       "      <td>2317.0</td>\n",
       "      <td>2387.0</td>\n",
       "      <td>2303.0</td>\n",
       "    </tr>\n",
       "    <tr>\n",
       "      <th>9</th>\n",
       "      <td>Armenia</td>\n",
       "      <td>75.0</td>\n",
       "      <td>87.0</td>\n",
       "      <td>70.0</td>\n",
       "      <td>50.0</td>\n",
       "      <td>73.0</td>\n",
       "    </tr>\n",
       "    <tr>\n",
       "      <th>11</th>\n",
       "      <td>Australia</td>\n",
       "      <td>236.0</td>\n",
       "      <td>227.0</td>\n",
       "      <td>208.0</td>\n",
       "      <td>221.0</td>\n",
       "      <td>225.0</td>\n",
       "    </tr>\n",
       "    <tr>\n",
       "      <th>12</th>\n",
       "      <td>Austria</td>\n",
       "      <td>46.0</td>\n",
       "      <td>54.0</td>\n",
       "      <td>70.0</td>\n",
       "      <td>86.0</td>\n",
       "      <td>77.0</td>\n",
       "    </tr>\n",
       "    <tr>\n",
       "      <th>...</th>\n",
       "      <td>...</td>\n",
       "      <td>...</td>\n",
       "      <td>...</td>\n",
       "      <td>...</td>\n",
       "      <td>...</td>\n",
       "      <td>...</td>\n",
       "    </tr>\n",
       "    <tr>\n",
       "      <th>181</th>\n",
       "      <td>Trinidad and Tobago</td>\n",
       "      <td>420.0</td>\n",
       "      <td>463.0</td>\n",
       "      <td>494.0</td>\n",
       "      <td>516.0</td>\n",
       "      <td>538.0</td>\n",
       "    </tr>\n",
       "    <tr>\n",
       "      <th>183</th>\n",
       "      <td>Turkey</td>\n",
       "      <td>2235.0</td>\n",
       "      <td>2704.0</td>\n",
       "      <td>2541.0</td>\n",
       "      <td>2154.0</td>\n",
       "      <td>26.0</td>\n",
       "    </tr>\n",
       "    <tr>\n",
       "      <th>192</th>\n",
       "      <td>United States of America</td>\n",
       "      <td>15883.0</td>\n",
       "      <td>17413.0</td>\n",
       "      <td>17294.0</td>\n",
       "      <td>16374.0</td>\n",
       "      <td>16425.0</td>\n",
       "    </tr>\n",
       "    <tr>\n",
       "      <th>194</th>\n",
       "      <td>Uruguay</td>\n",
       "      <td>293.0</td>\n",
       "      <td>267.0</td>\n",
       "      <td>283.0</td>\n",
       "      <td>416.0</td>\n",
       "      <td>392.0</td>\n",
       "    </tr>\n",
       "    <tr>\n",
       "      <th>195</th>\n",
       "      <td>Uzbekistan</td>\n",
       "      <td>506.0</td>\n",
       "      <td>757.0</td>\n",
       "      <td>591.0</td>\n",
       "      <td>474.0</td>\n",
       "      <td>396.0</td>\n",
       "    </tr>\n",
       "  </tbody>\n",
       "</table>\n",
       "<p>83 rows × 6 columns</p>\n",
       "</div>"
      ],
      "text/plain": [
       "                      country     2015     2016     2017     2018     2019\n",
       "1                     Albania     64.0     79.0     58.0     66.0     65.0\n",
       "8                   Argentina   2837.0   2625.0   2317.0   2387.0   2303.0\n",
       "9                     Armenia     75.0     87.0     70.0     50.0     73.0\n",
       "11                  Australia    236.0    227.0    208.0    221.0    225.0\n",
       "12                    Austria     46.0     54.0     70.0     86.0     77.0\n",
       "..                        ...      ...      ...      ...      ...      ...\n",
       "181       Trinidad and Tobago    420.0    463.0    494.0    516.0    538.0\n",
       "183                    Turkey   2235.0   2704.0   2541.0   2154.0     26.0\n",
       "192  United States of America  15883.0  17413.0  17294.0  16374.0  16425.0\n",
       "194                   Uruguay    293.0    267.0    283.0    416.0    392.0\n",
       "195                Uzbekistan    506.0    757.0    591.0    474.0    396.0\n",
       "\n",
       "[83 rows x 6 columns]"
      ]
     },
     "execution_count": 5,
     "metadata": {},
     "output_type": "execute_result"
    }
   ],
   "source": [
    "# Use Pandas to read data\n",
    "hc_df = pd.read_csv(homicide) \n",
    "hc_df.head()\n",
    "\n",
    "# Drop columns\n",
    "hc_df_drop = hc_df.drop(columns=['Subregion', 'Region', '2020'])\n",
    "hc_df_drop.head()\n",
    "\n",
    "# Sort ascending\n",
    "hc_df_sorted = hc_df_drop.sort_values(by='country', ascending=True)\n",
    "hc_df_sorted.head() \n",
    "\n",
    "# Drop \"NaN\" rows\n",
    "hc_df_drop_nan = hc_df_sorted.dropna()\n",
    "hc_df_drop_nan"
   ]
  },
  {
   "cell_type": "code",
   "execution_count": 6,
   "metadata": {},
   "outputs": [
    {
     "data": {
      "text/html": [
       "<div>\n",
       "<style scoped>\n",
       "    .dataframe tbody tr th:only-of-type {\n",
       "        vertical-align: middle;\n",
       "    }\n",
       "\n",
       "    .dataframe tbody tr th {\n",
       "        vertical-align: top;\n",
       "    }\n",
       "\n",
       "    .dataframe thead th {\n",
       "        text-align: right;\n",
       "    }\n",
       "</style>\n",
       "<table border=\"1\" class=\"dataframe\">\n",
       "  <thead>\n",
       "    <tr style=\"text-align: right;\">\n",
       "      <th></th>\n",
       "      <th>country</th>\n",
       "      <th>year</th>\n",
       "      <th>homicide_victims_by_counts_per_100,000_population</th>\n",
       "    </tr>\n",
       "  </thead>\n",
       "  <tbody>\n",
       "    <tr>\n",
       "      <th>0</th>\n",
       "      <td>Albania</td>\n",
       "      <td>2015</td>\n",
       "      <td>64.0</td>\n",
       "    </tr>\n",
       "    <tr>\n",
       "      <th>332</th>\n",
       "      <td>Albania</td>\n",
       "      <td>2019</td>\n",
       "      <td>65.0</td>\n",
       "    </tr>\n",
       "    <tr>\n",
       "      <th>83</th>\n",
       "      <td>Albania</td>\n",
       "      <td>2016</td>\n",
       "      <td>79.0</td>\n",
       "    </tr>\n",
       "    <tr>\n",
       "      <th>249</th>\n",
       "      <td>Albania</td>\n",
       "      <td>2018</td>\n",
       "      <td>66.0</td>\n",
       "    </tr>\n",
       "    <tr>\n",
       "      <th>166</th>\n",
       "      <td>Albania</td>\n",
       "      <td>2017</td>\n",
       "      <td>58.0</td>\n",
       "    </tr>\n",
       "    <tr>\n",
       "      <th>...</th>\n",
       "      <td>...</td>\n",
       "      <td>...</td>\n",
       "      <td>...</td>\n",
       "    </tr>\n",
       "    <tr>\n",
       "      <th>19</th>\n",
       "      <td>China Macao SAR</td>\n",
       "      <td>2015</td>\n",
       "      <td>1.0</td>\n",
       "    </tr>\n",
       "    <tr>\n",
       "      <th>268</th>\n",
       "      <td>China Macao SAR</td>\n",
       "      <td>2018</td>\n",
       "      <td>2.0</td>\n",
       "    </tr>\n",
       "    <tr>\n",
       "      <th>102</th>\n",
       "      <td>China Macao SAR</td>\n",
       "      <td>2016</td>\n",
       "      <td>1.0</td>\n",
       "    </tr>\n",
       "    <tr>\n",
       "      <th>351</th>\n",
       "      <td>China Macao SAR</td>\n",
       "      <td>2019</td>\n",
       "      <td>2.0</td>\n",
       "    </tr>\n",
       "    <tr>\n",
       "      <th>185</th>\n",
       "      <td>China Macao SAR</td>\n",
       "      <td>2017</td>\n",
       "      <td>2.0</td>\n",
       "    </tr>\n",
       "  </tbody>\n",
       "</table>\n",
       "<p>100 rows × 3 columns</p>\n",
       "</div>"
      ],
      "text/plain": [
       "             country  year  homicide_victims_by_counts_per_100,000_population\n",
       "0            Albania  2015                                               64.0\n",
       "332          Albania  2019                                               65.0\n",
       "83           Albania  2016                                               79.0\n",
       "249          Albania  2018                                               66.0\n",
       "166          Albania  2017                                               58.0\n",
       "..               ...   ...                                                ...\n",
       "19   China Macao SAR  2015                                                1.0\n",
       "268  China Macao SAR  2018                                                2.0\n",
       "102  China Macao SAR  2016                                                1.0\n",
       "351  China Macao SAR  2019                                                2.0\n",
       "185  China Macao SAR  2017                                                2.0\n",
       "\n",
       "[100 rows x 3 columns]"
      ]
     },
     "execution_count": 6,
     "metadata": {},
     "output_type": "execute_result"
    }
   ],
   "source": [
    "# Flip \"Years\" columns in rows\n",
    "hc_df_fliped = hc_df_drop_nan.melt(id_vars=[\"country\"], \n",
    "        var_name=\"year\", \n",
    "        value_name= \"homicide_victims_by_counts_per_100,000_population\")\n",
    "hc_df_fliped\n",
    "\n",
    "# Sort ascending\n",
    "hc_df_sorted2 = hc_df_fliped.sort_values(by='country', ascending=True)\n",
    "hc_df_sorted2.head(100) "
   ]
  },
  {
   "cell_type": "code",
   "execution_count": 7,
   "metadata": {},
   "outputs": [
    {
     "data": {
      "text/plain": [
       "country                                               83\n",
       "year                                                   5\n",
       "homicide_victims_by_counts_per_100,000_population    276\n",
       "dtype: int64"
      ]
     },
     "execution_count": 7,
     "metadata": {},
     "output_type": "execute_result"
    }
   ],
   "source": [
    "# Count ununique namber of countries\n",
    "hc_df_sorted2.nunique()"
   ]
  },
  {
   "cell_type": "code",
   "execution_count": null,
   "metadata": {},
   "outputs": [],
   "source": []
  },
  {
   "cell_type": "code",
   "execution_count": 8,
   "metadata": {},
   "outputs": [
    {
     "data": {
      "text/plain": [
       "array(['Albania', 'Argentina', 'Armenia', 'Australia', 'Austria',\n",
       "       'Azerbaijan', 'Bahamas', 'Bahrain', 'Barbados', 'Belarus',\n",
       "       'Belize', 'Bhutan', 'Bolivia (Plurinational State of)',\n",
       "       'Bosnia and Herzegovina', 'Brazil', 'Bulgaria', 'Cabo Verde',\n",
       "       'Canada', 'Chile', 'China Macao SAR', 'China, Hong Kong SAR',\n",
       "       'Colombia', 'Costa Rica', 'Croatia', 'Cyprus', 'Denmark',\n",
       "       'Dominica', 'Ecuador', 'El Salvador', 'Estonia', 'Finland',\n",
       "       'France', 'Germany', 'Greece', 'Grenada', 'Guyana', 'Honduras',\n",
       "       'Hungary', 'Iceland', 'India', 'Ireland', 'Israel', 'Italy',\n",
       "       'Japan', 'Kosovo under UNSCR 1244', 'Latvia', 'Lebanon',\n",
       "       'Liechtenstein', 'Lithuania', 'Luxembourg', 'Malta', 'Mexico',\n",
       "       'Mongolia', 'Montenegro', 'Morocco', 'Nicaragua',\n",
       "       'North Macedonia', 'Norway', 'Oman', 'Panama', 'Paraguay',\n",
       "       'Poland', 'Republic of Korea', 'Romania', 'Russian Federation',\n",
       "       'Saint Lucia', 'Serbia', 'Seychelles', 'Singapore', 'Slovakia',\n",
       "       'Slovenia', 'South Africa', 'Spain', 'Sri Lanka',\n",
       "       'State of Palestine', 'Suriname', 'Sweden', 'Switzerland',\n",
       "       'Trinidad and Tobago', 'Turkey', 'United States of America',\n",
       "       'Uruguay', 'Uzbekistan'], dtype=object)"
      ]
     },
     "execution_count": 8,
     "metadata": {},
     "output_type": "execute_result"
    }
   ],
   "source": [
    "# Show ununique values\n",
    "hc_df_sorted2.country.unique()"
   ]
  },
  {
   "cell_type": "code",
   "execution_count": 10,
   "metadata": {},
   "outputs": [],
   "source": [
    "hc_df_sorted2.to_csv('../Project_2_Team_5/Outputs/homicide_final.csv')"
   ]
  },
  {
   "cell_type": "code",
   "execution_count": 7,
   "metadata": {},
   "outputs": [
    {
     "name": "stdout",
     "output_type": "stream",
     "text": [
      "Collecting psycopg2\n",
      "  Downloading psycopg2-2.9.5.tar.gz (384 kB)\n",
      "\u001b[K     |████████████████████████████████| 384 kB 2.1 MB/s eta 0:00:01\n",
      "\u001b[?25h\u001b[31m    ERROR: Command errored out with exit status 1:\n",
      "     command: /Users/jenny/opt/anaconda3/envs/PythonDataOne/bin/python -c 'import sys, setuptools, tokenize; sys.argv[0] = '\"'\"'/private/var/folders/rz/g4_s08sd0yx643s06v3msvfr0000gn/T/pip-install-07x3aefd/psycopg2/setup.py'\"'\"'; __file__='\"'\"'/private/var/folders/rz/g4_s08sd0yx643s06v3msvfr0000gn/T/pip-install-07x3aefd/psycopg2/setup.py'\"'\"';f=getattr(tokenize, '\"'\"'open'\"'\"', open)(__file__);code=f.read().replace('\"'\"'\\r\\n'\"'\"', '\"'\"'\\n'\"'\"');f.close();exec(compile(code, __file__, '\"'\"'exec'\"'\"'))' egg_info --egg-base /private/var/folders/rz/g4_s08sd0yx643s06v3msvfr0000gn/T/pip-install-07x3aefd/psycopg2/pip-egg-info\n",
      "         cwd: /private/var/folders/rz/g4_s08sd0yx643s06v3msvfr0000gn/T/pip-install-07x3aefd/psycopg2/\n",
      "    Complete output (23 lines):\n",
      "    running egg_info\n",
      "    creating /private/var/folders/rz/g4_s08sd0yx643s06v3msvfr0000gn/T/pip-install-07x3aefd/psycopg2/pip-egg-info/psycopg2.egg-info\n",
      "    writing /private/var/folders/rz/g4_s08sd0yx643s06v3msvfr0000gn/T/pip-install-07x3aefd/psycopg2/pip-egg-info/psycopg2.egg-info/PKG-INFO\n",
      "    writing dependency_links to /private/var/folders/rz/g4_s08sd0yx643s06v3msvfr0000gn/T/pip-install-07x3aefd/psycopg2/pip-egg-info/psycopg2.egg-info/dependency_links.txt\n",
      "    writing top-level names to /private/var/folders/rz/g4_s08sd0yx643s06v3msvfr0000gn/T/pip-install-07x3aefd/psycopg2/pip-egg-info/psycopg2.egg-info/top_level.txt\n",
      "    writing manifest file '/private/var/folders/rz/g4_s08sd0yx643s06v3msvfr0000gn/T/pip-install-07x3aefd/psycopg2/pip-egg-info/psycopg2.egg-info/SOURCES.txt'\n",
      "    \n",
      "    Error: pg_config executable not found.\n",
      "    \n",
      "    pg_config is required to build psycopg2 from source.  Please add the directory\n",
      "    containing pg_config to the $PATH or specify the full executable path with the\n",
      "    option:\n",
      "    \n",
      "        python setup.py build_ext --pg-config /path/to/pg_config build ...\n",
      "    \n",
      "    or with the pg_config option in 'setup.cfg'.\n",
      "    \n",
      "    If you prefer to avoid building psycopg2 from source, please install the PyPI\n",
      "    'psycopg2-binary' package instead.\n",
      "    \n",
      "    For further information please check the 'doc/src/install.rst' file (also at\n",
      "    <https://www.psycopg.org/docs/install.html>).\n",
      "    \n",
      "    ----------------------------------------\u001b[0m\n",
      "\u001b[31mERROR: Command errored out with exit status 1: python setup.py egg_info Check the logs for full command output.\u001b[0m\n"
     ]
    }
   ],
   "source": [
    "!pip install psycopg2"
   ]
  },
  {
   "cell_type": "code",
   "execution_count": 6,
   "metadata": {},
   "outputs": [
    {
     "ename": "ModuleNotFoundError",
     "evalue": "No module named 'psycopg2'",
     "output_type": "error",
     "traceback": [
      "\u001b[0;31m---------------------------------------------------------------------------\u001b[0m",
      "\u001b[0;31mModuleNotFoundError\u001b[0m                       Traceback (most recent call last)",
      "\u001b[0;32m/var/folders/rz/g4_s08sd0yx643s06v3msvfr0000gn/T/ipykernel_25865/1339095860.py\u001b[0m in \u001b[0;36m<module>\u001b[0;34m\u001b[0m\n\u001b[1;32m      6\u001b[0m \u001b[0mdatabase_name\u001b[0m \u001b[0;34m=\u001b[0m \u001b[0;34m'happiness'\u001b[0m\u001b[0;34m\u001b[0m\u001b[0;34m\u001b[0m\u001b[0m\n\u001b[1;32m      7\u001b[0m \u001b[0mrds_connection_string\u001b[0m \u001b[0;34m=\u001b[0m \u001b[0;34mf'{protocol}://{username}:{password}@{host}:{port}/{database_name}'\u001b[0m\u001b[0;34m\u001b[0m\u001b[0;34m\u001b[0m\u001b[0m\n\u001b[0;32m----> 8\u001b[0;31m \u001b[0mengine\u001b[0m \u001b[0;34m=\u001b[0m \u001b[0mcreate_engine\u001b[0m\u001b[0;34m(\u001b[0m\u001b[0mrds_connection_string\u001b[0m\u001b[0;34m)\u001b[0m\u001b[0;34m\u001b[0m\u001b[0;34m\u001b[0m\u001b[0m\n\u001b[0m",
      "\u001b[0;32m<string>\u001b[0m in \u001b[0;36mcreate_engine\u001b[0;34m(url, **kwargs)\u001b[0m\n",
      "\u001b[0;32m~/opt/anaconda3/envs/PythonDataOne/lib/python3.7/site-packages/sqlalchemy/util/deprecations.py\u001b[0m in \u001b[0;36mwarned\u001b[0;34m(fn, *args, **kwargs)\u001b[0m\n\u001b[1;32m    307\u001b[0m                         \u001b[0mstacklevel\u001b[0m\u001b[0;34m=\u001b[0m\u001b[0;36m3\u001b[0m\u001b[0;34m,\u001b[0m\u001b[0;34m\u001b[0m\u001b[0;34m\u001b[0m\u001b[0m\n\u001b[1;32m    308\u001b[0m                     )\n\u001b[0;32m--> 309\u001b[0;31m             \u001b[0;32mreturn\u001b[0m \u001b[0mfn\u001b[0m\u001b[0;34m(\u001b[0m\u001b[0;34m*\u001b[0m\u001b[0margs\u001b[0m\u001b[0;34m,\u001b[0m \u001b[0;34m**\u001b[0m\u001b[0mkwargs\u001b[0m\u001b[0;34m)\u001b[0m\u001b[0;34m\u001b[0m\u001b[0;34m\u001b[0m\u001b[0m\n\u001b[0m\u001b[1;32m    310\u001b[0m \u001b[0;34m\u001b[0m\u001b[0m\n\u001b[1;32m    311\u001b[0m         \u001b[0mdoc\u001b[0m \u001b[0;34m=\u001b[0m \u001b[0mfn\u001b[0m\u001b[0;34m.\u001b[0m\u001b[0m__doc__\u001b[0m \u001b[0;32mis\u001b[0m \u001b[0;32mnot\u001b[0m \u001b[0;32mNone\u001b[0m \u001b[0;32mand\u001b[0m \u001b[0mfn\u001b[0m\u001b[0;34m.\u001b[0m\u001b[0m__doc__\u001b[0m \u001b[0;32mor\u001b[0m \u001b[0;34m\"\"\u001b[0m\u001b[0;34m\u001b[0m\u001b[0;34m\u001b[0m\u001b[0m\n",
      "\u001b[0;32m~/opt/anaconda3/envs/PythonDataOne/lib/python3.7/site-packages/sqlalchemy/engine/create.py\u001b[0m in \u001b[0;36mcreate_engine\u001b[0;34m(url, **kwargs)\u001b[0m\n\u001b[1;32m    546\u001b[0m             \u001b[0;32mif\u001b[0m \u001b[0mk\u001b[0m \u001b[0;32min\u001b[0m \u001b[0mkwargs\u001b[0m\u001b[0;34m:\u001b[0m\u001b[0;34m\u001b[0m\u001b[0;34m\u001b[0m\u001b[0m\n\u001b[1;32m    547\u001b[0m                 \u001b[0mdbapi_args\u001b[0m\u001b[0;34m[\u001b[0m\u001b[0mk\u001b[0m\u001b[0;34m]\u001b[0m \u001b[0;34m=\u001b[0m \u001b[0mpop_kwarg\u001b[0m\u001b[0;34m(\u001b[0m\u001b[0mk\u001b[0m\u001b[0;34m)\u001b[0m\u001b[0;34m\u001b[0m\u001b[0;34m\u001b[0m\u001b[0m\n\u001b[0;32m--> 548\u001b[0;31m         \u001b[0mdbapi\u001b[0m \u001b[0;34m=\u001b[0m \u001b[0mdialect_cls\u001b[0m\u001b[0;34m.\u001b[0m\u001b[0mdbapi\u001b[0m\u001b[0;34m(\u001b[0m\u001b[0;34m**\u001b[0m\u001b[0mdbapi_args\u001b[0m\u001b[0;34m)\u001b[0m\u001b[0;34m\u001b[0m\u001b[0;34m\u001b[0m\u001b[0m\n\u001b[0m\u001b[1;32m    549\u001b[0m \u001b[0;34m\u001b[0m\u001b[0m\n\u001b[1;32m    550\u001b[0m     \u001b[0mdialect_args\u001b[0m\u001b[0;34m[\u001b[0m\u001b[0;34m\"dbapi\"\u001b[0m\u001b[0;34m]\u001b[0m \u001b[0;34m=\u001b[0m \u001b[0mdbapi\u001b[0m\u001b[0;34m\u001b[0m\u001b[0;34m\u001b[0m\u001b[0m\n",
      "\u001b[0;32m~/opt/anaconda3/envs/PythonDataOne/lib/python3.7/site-packages/sqlalchemy/dialects/postgresql/psycopg2.py\u001b[0m in \u001b[0;36mdbapi\u001b[0;34m(cls)\u001b[0m\n\u001b[1;32m    809\u001b[0m     \u001b[0;34m@\u001b[0m\u001b[0mclassmethod\u001b[0m\u001b[0;34m\u001b[0m\u001b[0;34m\u001b[0m\u001b[0m\n\u001b[1;32m    810\u001b[0m     \u001b[0;32mdef\u001b[0m \u001b[0mdbapi\u001b[0m\u001b[0;34m(\u001b[0m\u001b[0mcls\u001b[0m\u001b[0;34m)\u001b[0m\u001b[0;34m:\u001b[0m\u001b[0;34m\u001b[0m\u001b[0;34m\u001b[0m\u001b[0m\n\u001b[0;32m--> 811\u001b[0;31m         \u001b[0;32mimport\u001b[0m \u001b[0mpsycopg2\u001b[0m\u001b[0;34m\u001b[0m\u001b[0;34m\u001b[0m\u001b[0m\n\u001b[0m\u001b[1;32m    812\u001b[0m \u001b[0;34m\u001b[0m\u001b[0m\n\u001b[1;32m    813\u001b[0m         \u001b[0;32mreturn\u001b[0m \u001b[0mpsycopg2\u001b[0m\u001b[0;34m\u001b[0m\u001b[0;34m\u001b[0m\u001b[0m\n",
      "\u001b[0;31mModuleNotFoundError\u001b[0m: No module named 'psycopg2'"
     ]
    }
   ],
   "source": [
    "protocol = 'postgresql'\n",
    "username = 'postgres'\n",
    "password = 'postgres'\n",
    "host = 'localhost'\n",
    "port = 5432\n",
    "database_name = 'happiness'\n",
    "rds_connection_string = f'{protocol}://{username}:{password}@{host}:{port}/{database_name}'\n",
    "engine = create_engine(rds_connection_string)"
   ]
  }
 ],
 "metadata": {
  "kernelspec": {
   "display_name": "Python 3.7.7 ('PythonDataOne')",
   "language": "python",
   "name": "python3"
  },
  "language_info": {
   "codemirror_mode": {
    "name": "ipython",
    "version": 3
   },
   "file_extension": ".py",
   "mimetype": "text/x-python",
   "name": "python",
   "nbconvert_exporter": "python",
   "pygments_lexer": "ipython3",
   "version": "3.7.7"
  },
  "orig_nbformat": 4,
  "vscode": {
   "interpreter": {
    "hash": "d4568b40259f9c04d0ea7b99dd3d5afca25ef05f7af34477a0a5a42f849f2173"
   }
  }
 },
 "nbformat": 4,
 "nbformat_minor": 2
}
