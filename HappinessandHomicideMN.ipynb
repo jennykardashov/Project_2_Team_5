{
 "cells": [
  {
   "cell_type": "code",
   "execution_count": 1,
   "metadata": {},
   "outputs": [],
   "source": [
    "import pandas as pd\n",
    "import numpy as np\n",
    "from pprint import pprint\n",
    "from sqlalchemy import create_engine\n",
    "\n"
   ]
  },
  {
   "cell_type": "code",
   "execution_count": 2,
   "metadata": {},
   "outputs": [
    {
     "data": {
      "text/html": [
       "<div>\n",
       "<style scoped>\n",
       "    .dataframe tbody tr th:only-of-type {\n",
       "        vertical-align: middle;\n",
       "    }\n",
       "\n",
       "    .dataframe tbody tr th {\n",
       "        vertical-align: top;\n",
       "    }\n",
       "\n",
       "    .dataframe thead th {\n",
       "        text-align: right;\n",
       "    }\n",
       "</style>\n",
       "<table border=\"1\" class=\"dataframe\">\n",
       "  <thead>\n",
       "    <tr style=\"text-align: right;\">\n",
       "      <th></th>\n",
       "      <th>HPI rank</th>\n",
       "      <th>Country</th>\n",
       "      <th>ISO</th>\n",
       "      <th>Unnamed: 3</th>\n",
       "      <th>Continent</th>\n",
       "      <th>Population (thousands)</th>\n",
       "      <th>Life Expectancy (years)</th>\n",
       "      <th>Ladder of life (Wellbeing) (0-10)</th>\n",
       "      <th>Ecological Footprint (g ha)</th>\n",
       "      <th>HPI</th>\n",
       "      <th>Biocapacity for year \\n(g ha)</th>\n",
       "      <th>GDP per capita ($)</th>\n",
       "    </tr>\n",
       "  </thead>\n",
       "  <tbody>\n",
       "    <tr>\n",
       "      <th>0</th>\n",
       "      <td>94.0</td>\n",
       "      <td>Afghanistan</td>\n",
       "      <td>AFG</td>\n",
       "      <td>2015AFG</td>\n",
       "      <td>6.0</td>\n",
       "      <td>34413.603</td>\n",
       "      <td>63.4</td>\n",
       "      <td>3.982855</td>\n",
       "      <td>0.705663</td>\n",
       "      <td>40.100808</td>\n",
       "      <td>1.61</td>\n",
       "      <td>2068.265904</td>\n",
       "    </tr>\n",
       "    <tr>\n",
       "      <th>1</th>\n",
       "      <td>83.0</td>\n",
       "      <td>Afghanistan</td>\n",
       "      <td>AFG</td>\n",
       "      <td>2016AFG</td>\n",
       "      <td>6.0</td>\n",
       "      <td>35383.028</td>\n",
       "      <td>63.8</td>\n",
       "      <td>4.220169</td>\n",
       "      <td>0.701342</td>\n",
       "      <td>42.042749</td>\n",
       "      <td>1.60</td>\n",
       "      <td>2057.062164</td>\n",
       "    </tr>\n",
       "    <tr>\n",
       "      <th>2</th>\n",
       "      <td>143.0</td>\n",
       "      <td>Afghanistan</td>\n",
       "      <td>AFG</td>\n",
       "      <td>2017AFG</td>\n",
       "      <td>6.0</td>\n",
       "      <td>36296.111</td>\n",
       "      <td>64.1</td>\n",
       "      <td>2.661718</td>\n",
       "      <td>0.664047</td>\n",
       "      <td>31.463232</td>\n",
       "      <td>1.60</td>\n",
       "      <td>2058.383832</td>\n",
       "    </tr>\n",
       "    <tr>\n",
       "      <th>3</th>\n",
       "      <td>140.0</td>\n",
       "      <td>Afghanistan</td>\n",
       "      <td>AFG</td>\n",
       "      <td>2018AFG</td>\n",
       "      <td>6.0</td>\n",
       "      <td>37171.922</td>\n",
       "      <td>64.5</td>\n",
       "      <td>2.694303</td>\n",
       "      <td>0.726989</td>\n",
       "      <td>31.540554</td>\n",
       "      <td>1.57</td>\n",
       "      <td>2033.779002</td>\n",
       "    </tr>\n",
       "    <tr>\n",
       "      <th>4</th>\n",
       "      <td>146.0</td>\n",
       "      <td>Afghanistan</td>\n",
       "      <td>AFG</td>\n",
       "      <td>2019AFG</td>\n",
       "      <td>6.0</td>\n",
       "      <td>38041.800</td>\n",
       "      <td>64.8</td>\n",
       "      <td>2.380000</td>\n",
       "      <td>0.730000</td>\n",
       "      <td>29.400000</td>\n",
       "      <td>1.56</td>\n",
       "      <td>2065</td>\n",
       "    </tr>\n",
       "  </tbody>\n",
       "</table>\n",
       "</div>"
      ],
      "text/plain": [
       "   HPI rank      Country  ISO Unnamed: 3  Continent  Population (thousands)  \\\n",
       "0      94.0  Afghanistan  AFG    2015AFG        6.0               34413.603   \n",
       "1      83.0  Afghanistan  AFG    2016AFG        6.0               35383.028   \n",
       "2     143.0  Afghanistan  AFG    2017AFG        6.0               36296.111   \n",
       "3     140.0  Afghanistan  AFG    2018AFG        6.0               37171.922   \n",
       "4     146.0  Afghanistan  AFG    2019AFG        6.0               38041.800   \n",
       "\n",
       "   Life Expectancy (years)  Ladder of life (Wellbeing) (0-10)  \\\n",
       "0                     63.4                           3.982855   \n",
       "1                     63.8                           4.220169   \n",
       "2                     64.1                           2.661718   \n",
       "3                     64.5                           2.694303   \n",
       "4                     64.8                           2.380000   \n",
       "\n",
       "   Ecological Footprint (g ha)        HPI  Biocapacity for year \\n(g ha)  \\\n",
       "0                     0.705663  40.100808                           1.61   \n",
       "1                     0.701342  42.042749                           1.60   \n",
       "2                     0.664047  31.463232                           1.60   \n",
       "3                     0.726989  31.540554                           1.57   \n",
       "4                     0.730000  29.400000                           1.56   \n",
       "\n",
       "  GDP per capita ($)  \n",
       "0        2068.265904  \n",
       "1        2057.062164  \n",
       "2        2058.383832  \n",
       "3        2033.779002  \n",
       "4               2065  "
      ]
     },
     "execution_count": 2,
     "metadata": {},
     "output_type": "execute_result"
    }
   ],
   "source": [
    "#extract data from csv file and make into a DataFrame\n",
    "happy_planet = '../Project_2_Team_5/Resources/Happy_planet_index_public_2015-20.csv'\n",
    "hp_df = pd.read_csv(happy_planet)\n",
    "\n",
    "hp_df.head()"
   ]
  },
  {
   "attachments": {},
   "cell_type": "markdown",
   "metadata": {},
   "source": [
    "Drop columns  ISO, continent, Biocapacity for year /n(g ha), GDP per capita($)"
   ]
  },
  {
   "cell_type": "code",
   "execution_count": 3,
   "metadata": {},
   "outputs": [
    {
     "data": {
      "text/html": [
       "<div>\n",
       "<style scoped>\n",
       "    .dataframe tbody tr th:only-of-type {\n",
       "        vertical-align: middle;\n",
       "    }\n",
       "\n",
       "    .dataframe tbody tr th {\n",
       "        vertical-align: top;\n",
       "    }\n",
       "\n",
       "    .dataframe thead th {\n",
       "        text-align: right;\n",
       "    }\n",
       "</style>\n",
       "<table border=\"1\" class=\"dataframe\">\n",
       "  <thead>\n",
       "    <tr style=\"text-align: right;\">\n",
       "      <th></th>\n",
       "      <th>Country</th>\n",
       "      <th>Unnamed: 3</th>\n",
       "      <th>Population (thousands)</th>\n",
       "      <th>Life Expectancy (years)</th>\n",
       "      <th>HPI</th>\n",
       "    </tr>\n",
       "  </thead>\n",
       "  <tbody>\n",
       "    <tr>\n",
       "      <th>0</th>\n",
       "      <td>Afghanistan</td>\n",
       "      <td>2015AFG</td>\n",
       "      <td>34413.603</td>\n",
       "      <td>63.4</td>\n",
       "      <td>40.100808</td>\n",
       "    </tr>\n",
       "    <tr>\n",
       "      <th>1</th>\n",
       "      <td>Afghanistan</td>\n",
       "      <td>2016AFG</td>\n",
       "      <td>35383.028</td>\n",
       "      <td>63.8</td>\n",
       "      <td>42.042749</td>\n",
       "    </tr>\n",
       "    <tr>\n",
       "      <th>2</th>\n",
       "      <td>Afghanistan</td>\n",
       "      <td>2017AFG</td>\n",
       "      <td>36296.111</td>\n",
       "      <td>64.1</td>\n",
       "      <td>31.463232</td>\n",
       "    </tr>\n",
       "    <tr>\n",
       "      <th>3</th>\n",
       "      <td>Afghanistan</td>\n",
       "      <td>2018AFG</td>\n",
       "      <td>37171.922</td>\n",
       "      <td>64.5</td>\n",
       "      <td>31.540554</td>\n",
       "    </tr>\n",
       "    <tr>\n",
       "      <th>4</th>\n",
       "      <td>Afghanistan</td>\n",
       "      <td>2019AFG</td>\n",
       "      <td>38041.800</td>\n",
       "      <td>64.8</td>\n",
       "      <td>29.400000</td>\n",
       "    </tr>\n",
       "  </tbody>\n",
       "</table>\n",
       "</div>"
      ],
      "text/plain": [
       "       Country Unnamed: 3  Population (thousands)  Life Expectancy (years)  \\\n",
       "0  Afghanistan    2015AFG               34413.603                     63.4   \n",
       "1  Afghanistan    2016AFG               35383.028                     63.8   \n",
       "2  Afghanistan    2017AFG               36296.111                     64.1   \n",
       "3  Afghanistan    2018AFG               37171.922                     64.5   \n",
       "4  Afghanistan    2019AFG               38041.800                     64.8   \n",
       "\n",
       "         HPI  \n",
       "0  40.100808  \n",
       "1  42.042749  \n",
       "2  31.463232  \n",
       "3  31.540554  \n",
       "4  29.400000  "
      ]
     },
     "execution_count": 3,
     "metadata": {},
     "output_type": "execute_result"
    }
   ],
   "source": [
    "hp_simple = hp_df.drop(columns = [\"HPI rank\", \"ISO\", \"Continent\", \"Ladder of life (Wellbeing) (0-10)\", \"Ecological Footprint (g ha)\", \"Biocapacity for year \\n(g ha)\", \"GDP per capita ($)\"])\n",
    "hp_simple.head()"
   ]
  },
  {
   "attachments": {},
   "cell_type": "markdown",
   "metadata": {},
   "source": [
    "Rename column 3 to Year/Ctry Code, and Column 6 to Happy Planet Index"
   ]
  },
  {
   "cell_type": "code",
   "execution_count": 4,
   "metadata": {},
   "outputs": [
    {
     "data": {
      "text/html": [
       "<div>\n",
       "<style scoped>\n",
       "    .dataframe tbody tr th:only-of-type {\n",
       "        vertical-align: middle;\n",
       "    }\n",
       "\n",
       "    .dataframe tbody tr th {\n",
       "        vertical-align: top;\n",
       "    }\n",
       "\n",
       "    .dataframe thead th {\n",
       "        text-align: right;\n",
       "    }\n",
       "</style>\n",
       "<table border=\"1\" class=\"dataframe\">\n",
       "  <thead>\n",
       "    <tr style=\"text-align: right;\">\n",
       "      <th></th>\n",
       "      <th>country</th>\n",
       "      <th>year_ctry_code</th>\n",
       "      <th>population_thousands</th>\n",
       "      <th>life_expectancy_years</th>\n",
       "      <th>happy_planet_index</th>\n",
       "    </tr>\n",
       "  </thead>\n",
       "  <tbody>\n",
       "    <tr>\n",
       "      <th>0</th>\n",
       "      <td>Afghanistan</td>\n",
       "      <td>2015AFG</td>\n",
       "      <td>34413.603</td>\n",
       "      <td>63.4</td>\n",
       "      <td>40.100808</td>\n",
       "    </tr>\n",
       "    <tr>\n",
       "      <th>1</th>\n",
       "      <td>Afghanistan</td>\n",
       "      <td>2016AFG</td>\n",
       "      <td>35383.028</td>\n",
       "      <td>63.8</td>\n",
       "      <td>42.042749</td>\n",
       "    </tr>\n",
       "    <tr>\n",
       "      <th>2</th>\n",
       "      <td>Afghanistan</td>\n",
       "      <td>2017AFG</td>\n",
       "      <td>36296.111</td>\n",
       "      <td>64.1</td>\n",
       "      <td>31.463232</td>\n",
       "    </tr>\n",
       "    <tr>\n",
       "      <th>3</th>\n",
       "      <td>Afghanistan</td>\n",
       "      <td>2018AFG</td>\n",
       "      <td>37171.922</td>\n",
       "      <td>64.5</td>\n",
       "      <td>31.540554</td>\n",
       "    </tr>\n",
       "    <tr>\n",
       "      <th>4</th>\n",
       "      <td>Afghanistan</td>\n",
       "      <td>2019AFG</td>\n",
       "      <td>38041.800</td>\n",
       "      <td>64.8</td>\n",
       "      <td>29.400000</td>\n",
       "    </tr>\n",
       "  </tbody>\n",
       "</table>\n",
       "</div>"
      ],
      "text/plain": [
       "       country year_ctry_code  population_thousands  life_expectancy_years  \\\n",
       "0  Afghanistan        2015AFG             34413.603                   63.4   \n",
       "1  Afghanistan        2016AFG             35383.028                   63.8   \n",
       "2  Afghanistan        2017AFG             36296.111                   64.1   \n",
       "3  Afghanistan        2018AFG             37171.922                   64.5   \n",
       "4  Afghanistan        2019AFG             38041.800                   64.8   \n",
       "\n",
       "   happy_planet_index  \n",
       "0           40.100808  \n",
       "1           42.042749  \n",
       "2           31.463232  \n",
       "3           31.540554  \n",
       "4           29.400000  "
      ]
     },
     "execution_count": 4,
     "metadata": {},
     "output_type": "execute_result"
    }
   ],
   "source": [
    "hp_simple.rename(columns = {\"Country\": \"country\", \"Unnamed: 3\" : \"year_ctry_code\", \"Population (thousands)\": \"population_thousands\",\n",
    "\"Life Expectancy (years)\": \"life_expectancy_years\", \"HPI\" : \"happy_planet_index\", }, inplace=True)\n",
    "hp_simple.head()\n",
    "\n"
   ]
  },
  {
   "cell_type": "code",
   "execution_count": 5,
   "metadata": {},
   "outputs": [
    {
     "name": "stdout",
     "output_type": "stream",
     "text": [
      "0      2015\n",
      "1      2016\n",
      "2      2017\n",
      "3      2018\n",
      "4      2019\n",
      "       ... \n",
      "909    2018\n",
      "910    2019\n",
      "911    2020\n",
      "912     NaN\n",
      "913     NaN\n",
      "Name: year, Length: 914, dtype: object\n"
     ]
    }
   ],
   "source": [
    "# hp_year = hp_simple[\"Year/Ctry Code\"]\n",
    "hp_simple['year'] = hp_simple['year_ctry_code'].str[:-3]\n",
    "print(hp_simple['year'])"
   ]
  },
  {
   "cell_type": "code",
   "execution_count": 6,
   "metadata": {},
   "outputs": [
    {
     "data": {
      "text/html": [
       "<div>\n",
       "<style scoped>\n",
       "    .dataframe tbody tr th:only-of-type {\n",
       "        vertical-align: middle;\n",
       "    }\n",
       "\n",
       "    .dataframe tbody tr th {\n",
       "        vertical-align: top;\n",
       "    }\n",
       "\n",
       "    .dataframe thead th {\n",
       "        text-align: right;\n",
       "    }\n",
       "</style>\n",
       "<table border=\"1\" class=\"dataframe\">\n",
       "  <thead>\n",
       "    <tr style=\"text-align: right;\">\n",
       "      <th></th>\n",
       "      <th>country</th>\n",
       "      <th>year_ctry_code</th>\n",
       "      <th>population_thousands</th>\n",
       "      <th>life_expectancy_years</th>\n",
       "      <th>happy_planet_index</th>\n",
       "      <th>year</th>\n",
       "    </tr>\n",
       "  </thead>\n",
       "  <tbody>\n",
       "    <tr>\n",
       "      <th>0</th>\n",
       "      <td>Afghanistan</td>\n",
       "      <td>2015AFG</td>\n",
       "      <td>34413.603</td>\n",
       "      <td>63.4</td>\n",
       "      <td>40.100808</td>\n",
       "      <td>2015</td>\n",
       "    </tr>\n",
       "    <tr>\n",
       "      <th>1</th>\n",
       "      <td>Afghanistan</td>\n",
       "      <td>2016AFG</td>\n",
       "      <td>35383.028</td>\n",
       "      <td>63.8</td>\n",
       "      <td>42.042749</td>\n",
       "      <td>2016</td>\n",
       "    </tr>\n",
       "    <tr>\n",
       "      <th>2</th>\n",
       "      <td>Afghanistan</td>\n",
       "      <td>2017AFG</td>\n",
       "      <td>36296.111</td>\n",
       "      <td>64.1</td>\n",
       "      <td>31.463232</td>\n",
       "      <td>2017</td>\n",
       "    </tr>\n",
       "    <tr>\n",
       "      <th>3</th>\n",
       "      <td>Afghanistan</td>\n",
       "      <td>2018AFG</td>\n",
       "      <td>37171.922</td>\n",
       "      <td>64.5</td>\n",
       "      <td>31.540554</td>\n",
       "      <td>2018</td>\n",
       "    </tr>\n",
       "    <tr>\n",
       "      <th>4</th>\n",
       "      <td>Afghanistan</td>\n",
       "      <td>2019AFG</td>\n",
       "      <td>38041.800</td>\n",
       "      <td>64.8</td>\n",
       "      <td>29.400000</td>\n",
       "      <td>2019</td>\n",
       "    </tr>\n",
       "  </tbody>\n",
       "</table>\n",
       "</div>"
      ],
      "text/plain": [
       "       country year_ctry_code  population_thousands  life_expectancy_years  \\\n",
       "0  Afghanistan        2015AFG             34413.603                   63.4   \n",
       "1  Afghanistan        2016AFG             35383.028                   63.8   \n",
       "2  Afghanistan        2017AFG             36296.111                   64.1   \n",
       "3  Afghanistan        2018AFG             37171.922                   64.5   \n",
       "4  Afghanistan        2019AFG             38041.800                   64.8   \n",
       "\n",
       "   happy_planet_index  year  \n",
       "0           40.100808  2015  \n",
       "1           42.042749  2016  \n",
       "2           31.463232  2017  \n",
       "3           31.540554  2018  \n",
       "4           29.400000  2019  "
      ]
     },
     "execution_count": 6,
     "metadata": {},
     "output_type": "execute_result"
    }
   ],
   "source": [
    "# print new database\n",
    "hp_simple.head()"
   ]
  },
  {
   "attachments": {},
   "cell_type": "markdown",
   "metadata": {},
   "source": [
    "Dropping the \"year_ctry_code\" column"
   ]
  },
  {
   "cell_type": "code",
   "execution_count": 7,
   "metadata": {},
   "outputs": [
    {
     "data": {
      "text/html": [
       "<div>\n",
       "<style scoped>\n",
       "    .dataframe tbody tr th:only-of-type {\n",
       "        vertical-align: middle;\n",
       "    }\n",
       "\n",
       "    .dataframe tbody tr th {\n",
       "        vertical-align: top;\n",
       "    }\n",
       "\n",
       "    .dataframe thead th {\n",
       "        text-align: right;\n",
       "    }\n",
       "</style>\n",
       "<table border=\"1\" class=\"dataframe\">\n",
       "  <thead>\n",
       "    <tr style=\"text-align: right;\">\n",
       "      <th></th>\n",
       "      <th>country</th>\n",
       "      <th>population_thousands</th>\n",
       "      <th>life_expectancy_years</th>\n",
       "      <th>happy_planet_index</th>\n",
       "      <th>year</th>\n",
       "    </tr>\n",
       "  </thead>\n",
       "  <tbody>\n",
       "    <tr>\n",
       "      <th>0</th>\n",
       "      <td>Afghanistan</td>\n",
       "      <td>34413.603</td>\n",
       "      <td>63.4</td>\n",
       "      <td>40.100808</td>\n",
       "      <td>2015</td>\n",
       "    </tr>\n",
       "    <tr>\n",
       "      <th>1</th>\n",
       "      <td>Afghanistan</td>\n",
       "      <td>35383.028</td>\n",
       "      <td>63.8</td>\n",
       "      <td>42.042749</td>\n",
       "      <td>2016</td>\n",
       "    </tr>\n",
       "    <tr>\n",
       "      <th>2</th>\n",
       "      <td>Afghanistan</td>\n",
       "      <td>36296.111</td>\n",
       "      <td>64.1</td>\n",
       "      <td>31.463232</td>\n",
       "      <td>2017</td>\n",
       "    </tr>\n",
       "    <tr>\n",
       "      <th>3</th>\n",
       "      <td>Afghanistan</td>\n",
       "      <td>37171.922</td>\n",
       "      <td>64.5</td>\n",
       "      <td>31.540554</td>\n",
       "      <td>2018</td>\n",
       "    </tr>\n",
       "    <tr>\n",
       "      <th>4</th>\n",
       "      <td>Afghanistan</td>\n",
       "      <td>38041.800</td>\n",
       "      <td>64.8</td>\n",
       "      <td>29.400000</td>\n",
       "      <td>2019</td>\n",
       "    </tr>\n",
       "  </tbody>\n",
       "</table>\n",
       "</div>"
      ],
      "text/plain": [
       "       country  population_thousands  life_expectancy_years  \\\n",
       "0  Afghanistan             34413.603                   63.4   \n",
       "1  Afghanistan             35383.028                   63.8   \n",
       "2  Afghanistan             36296.111                   64.1   \n",
       "3  Afghanistan             37171.922                   64.5   \n",
       "4  Afghanistan             38041.800                   64.8   \n",
       "\n",
       "   happy_planet_index  year  \n",
       "0           40.100808  2015  \n",
       "1           42.042749  2016  \n",
       "2           31.463232  2017  \n",
       "3           31.540554  2018  \n",
       "4           29.400000  2019  "
      ]
     },
     "execution_count": 7,
     "metadata": {},
     "output_type": "execute_result"
    }
   ],
   "source": [
    "hp_simple1 = hp_simple.drop(columns = [\"year_ctry_code\"])\n",
    "hp_simple1.head()"
   ]
  },
  {
   "attachments": {},
   "cell_type": "markdown",
   "metadata": {},
   "source": [
    "Dropping the Null values in the dataframe"
   ]
  },
  {
   "cell_type": "code",
   "execution_count": 8,
   "metadata": {},
   "outputs": [
    {
     "data": {
      "text/plain": [
       "country                  813\n",
       "year_ctry_code           813\n",
       "population_thousands     813\n",
       "life_expectancy_years    813\n",
       "happy_planet_index       813\n",
       "year                     813\n",
       "dtype: int64"
      ]
     },
     "execution_count": 8,
     "metadata": {},
     "output_type": "execute_result"
    }
   ],
   "source": [
    "hp_clean = hp_simple.dropna(how='any')\n",
    "hp_clean.count()"
   ]
  },
  {
   "attachments": {},
   "cell_type": "markdown",
   "metadata": {},
   "source": [
    "Find Countries that have data from all years"
   ]
  },
  {
   "cell_type": "code",
   "execution_count": 9,
   "metadata": {},
   "outputs": [
    {
     "data": {
      "text/plain": [
       "2019    152\n",
       "2017    147\n",
       "2018    146\n",
       "2015    140\n",
       "2016    140\n",
       "2020     88\n",
       "Name: year, dtype: int64"
      ]
     },
     "execution_count": 9,
     "metadata": {},
     "output_type": "execute_result"
    }
   ],
   "source": [
    "hp_clean[\"year\"].value_counts()"
   ]
  },
  {
   "attachments": {},
   "cell_type": "markdown",
   "metadata": {},
   "source": [
    "Separating data by year"
   ]
  },
  {
   "cell_type": "code",
   "execution_count": 10,
   "metadata": {},
   "outputs": [
    {
     "data": {
      "text/plain": [
       "4      Afghanistan\n",
       "10         Albania\n",
       "16         Algeria\n",
       "22       Argentina\n",
       "28         Armenia\n",
       "          ...     \n",
       "886      Venezuela\n",
       "892        Vietnam\n",
       "898          Yemen\n",
       "904         Zambia\n",
       "910       Zimbabwe\n",
       "Name: country, Length: 152, dtype: object"
      ]
     },
     "execution_count": 10,
     "metadata": {},
     "output_type": "execute_result"
    }
   ],
   "source": [
    "\n",
    "only_2019 = hp_clean.loc[hp_clean[\"year\"] == \"2019\",:]\n",
    "only_2018 = hp_clean.loc[hp_clean[\"year\"] == \"2018\",:]\n",
    "only_2017 = hp_clean.loc[hp_clean[\"year\"] == \"2017\",:]\n",
    "only_2016 = hp_clean.loc[hp_clean[\"year\"] == \"2016\",:]\n",
    "only_2015 = hp_clean.loc[hp_clean[\"year\"] == \"2015\",:]\n",
    "\n",
    "only_2015[\"country\"]\n",
    "only_2016[\"country\"]\n",
    "only_2017[\"country\"]\n",
    "only_2018[\"country\"]\n",
    "only_2019[\"country\"]\n",
    "\n"
   ]
  },
  {
   "cell_type": "code",
   "execution_count": 11,
   "metadata": {},
   "outputs": [
    {
     "data": {
      "text/plain": [
       "1      Afghanistan\n",
       "7          Albania\n",
       "13         Algeria\n",
       "19       Argentina\n",
       "25         Armenia\n",
       "          ...     \n",
       "883      Venezuela\n",
       "889        Vietnam\n",
       "895          Yemen\n",
       "901         Zambia\n",
       "907       Zimbabwe\n",
       "Name: country, Length: 140, dtype: object"
      ]
     },
     "execution_count": 11,
     "metadata": {},
     "output_type": "execute_result"
    }
   ],
   "source": [
    "only_2016[\"country\"]\n"
   ]
  },
  {
   "attachments": {},
   "cell_type": "markdown",
   "metadata": {},
   "source": [
    "finding the countries that have complete data for 2015, 2016, 2017, 2018, 2019, and making a final database sorted by country."
   ]
  },
  {
   "cell_type": "code",
   "execution_count": 12,
   "metadata": {},
   "outputs": [
    {
     "data": {
      "text/html": [
       "<div>\n",
       "<style scoped>\n",
       "    .dataframe tbody tr th:only-of-type {\n",
       "        vertical-align: middle;\n",
       "    }\n",
       "\n",
       "    .dataframe tbody tr th {\n",
       "        vertical-align: top;\n",
       "    }\n",
       "\n",
       "    .dataframe thead th {\n",
       "        text-align: right;\n",
       "    }\n",
       "</style>\n",
       "<table border=\"1\" class=\"dataframe\">\n",
       "  <thead>\n",
       "    <tr style=\"text-align: right;\">\n",
       "      <th></th>\n",
       "      <th>country</th>\n",
       "      <th>population_thousands</th>\n",
       "      <th>life_expectancy_years</th>\n",
       "      <th>happy_planet_index</th>\n",
       "      <th>year</th>\n",
       "    </tr>\n",
       "  </thead>\n",
       "  <tbody>\n",
       "    <tr>\n",
       "      <th>0</th>\n",
       "      <td>Afghanistan</td>\n",
       "      <td>34413.603</td>\n",
       "      <td>63.4</td>\n",
       "      <td>40.100808</td>\n",
       "      <td>2015</td>\n",
       "    </tr>\n",
       "    <tr>\n",
       "      <th>4</th>\n",
       "      <td>Afghanistan</td>\n",
       "      <td>38041.800</td>\n",
       "      <td>64.8</td>\n",
       "      <td>29.400000</td>\n",
       "      <td>2019</td>\n",
       "    </tr>\n",
       "    <tr>\n",
       "      <th>1</th>\n",
       "      <td>Afghanistan</td>\n",
       "      <td>35383.028</td>\n",
       "      <td>63.8</td>\n",
       "      <td>42.042749</td>\n",
       "      <td>2016</td>\n",
       "    </tr>\n",
       "    <tr>\n",
       "      <th>3</th>\n",
       "      <td>Afghanistan</td>\n",
       "      <td>37171.922</td>\n",
       "      <td>64.5</td>\n",
       "      <td>31.540554</td>\n",
       "      <td>2018</td>\n",
       "    </tr>\n",
       "    <tr>\n",
       "      <th>2</th>\n",
       "      <td>Afghanistan</td>\n",
       "      <td>36296.111</td>\n",
       "      <td>64.1</td>\n",
       "      <td>31.463232</td>\n",
       "      <td>2017</td>\n",
       "    </tr>\n",
       "  </tbody>\n",
       "</table>\n",
       "</div>"
      ],
      "text/plain": [
       "       country  population_thousands  life_expectancy_years  \\\n",
       "0  Afghanistan             34413.603                   63.4   \n",
       "4  Afghanistan             38041.800                   64.8   \n",
       "1  Afghanistan             35383.028                   63.8   \n",
       "3  Afghanistan             37171.922                   64.5   \n",
       "2  Afghanistan             36296.111                   64.1   \n",
       "\n",
       "   happy_planet_index  year  \n",
       "0           40.100808  2015  \n",
       "4           29.400000  2019  \n",
       "1           42.042749  2016  \n",
       "3           31.540554  2018  \n",
       "2           31.463232  2017  "
      ]
     },
     "execution_count": 12,
     "metadata": {},
     "output_type": "execute_result"
    }
   ],
   "source": [
    "common = \\\n",
    "    set.intersection(set(only_2015[\"country\"]), set(only_2016[\"country\"]), set(only_2017[\"country\"]), set(only_2018[\"country\"]), set(only_2019[\"country\"]))\n",
    "\n",
    "common_country_hpi = pd.concat([\n",
    "    only_2015[only_2015[\"country\"].isin(common)],\n",
    "    only_2016[only_2016[\"country\"].isin(common)],\n",
    "    only_2017[only_2017[\"country\"].isin(common)],\n",
    "    only_2018[only_2018[\"country\"].isin(common)],\n",
    "    only_2019[only_2019[\"country\"].isin(common)]]).sort_values(by='country')\n",
    "\n",
    "common_country_hpi1 = common_country_hpi.drop(columns = [\"year_ctry_code\"])\n",
    "common_country_hpi1.head()\n",
    "\n",
    "common_country_hpi1.sort_values(by= 'country').head()\n"
   ]
  },
  {
   "attachments": {},
   "cell_type": "markdown",
   "metadata": {},
   "source": [
    "Save Data Frame to a csv file"
   ]
  },
  {
   "cell_type": "code",
   "execution_count": 13,
   "metadata": {},
   "outputs": [],
   "source": [
    "protocol = 'postgresql'\n",
    "username = 'postgres'\n",
    "password = 'postgres'\n",
    "host = 'localhost'\n",
    "port = 5432\n",
    "database_name = 'happiness'\n",
    "rds_connection_string = f'{protocol}://{username}:{password}@{host}:{port}/{database_name}'\n",
    "engine = create_engine(rds_connection_string)"
   ]
  },
  {
   "cell_type": "code",
   "execution_count": 14,
   "metadata": {},
   "outputs": [
    {
     "name": "stderr",
     "output_type": "stream",
     "text": [
      "/Users/jenny/opt/anaconda3/envs/PythonDataOne/lib/python3.7/site-packages/ipykernel_launcher.py:1: SADeprecationWarning: The Engine.table_names() method is deprecated and will be removed in a future release.  Please refer to Inspector.get_table_names(). (deprecated since: 1.4)\n",
      "  \"\"\"Entry point for launching an IPython kernel.\n"
     ]
    },
    {
     "data": {
      "text/plain": [
       "['wh_final', 'homicide_final', 'hpi_final_2015_19']"
      ]
     },
     "execution_count": 14,
     "metadata": {},
     "output_type": "execute_result"
    }
   ],
   "source": [
    "engine.table_names()"
   ]
  },
  {
   "cell_type": "code",
   "execution_count": 15,
   "metadata": {},
   "outputs": [],
   "source": [
    "common_country_hpi1.to_sql(name = \"hpi_final_2015_19\", con=engine, if_exists=\"append\", index = False)"
   ]
  }
 ],
 "metadata": {
  "kernelspec": {
   "display_name": "Python 3.7.7 ('PythonDataOne')",
   "language": "python",
   "name": "python3"
  },
  "language_info": {
   "codemirror_mode": {
    "name": "ipython",
    "version": 3
   },
   "file_extension": ".py",
   "mimetype": "text/x-python",
   "name": "python",
   "nbconvert_exporter": "python",
   "pygments_lexer": "ipython3",
   "version": "3.7.7"
  },
  "orig_nbformat": 4,
  "vscode": {
   "interpreter": {
    "hash": "d4568b40259f9c04d0ea7b99dd3d5afca25ef05f7af34477a0a5a42f849f2173"
   }
  }
 },
 "nbformat": 4,
 "nbformat_minor": 2
}
